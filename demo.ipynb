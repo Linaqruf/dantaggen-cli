{
 "cells": [
  {
   "cell_type": "code",
   "execution_count": null,
   "id": "ea0f28f9-205e-46e9-b8af-ff494210f7bf",
   "metadata": {},
   "outputs": [],
   "source": [
    "!git clone https://github.com/Linaqruf/dantaggen-cli dantaggen-cli \n",
    "!pip install -qq transformers llama-cpp-python requests sentencepiece protobuf \n",
    "!pip -qq install flash-attn --no-build-isolation\n",
    "!export FLASH_ATTENTION_SKIP_CUDA_BUILD=True"
   ]
  },
  {
   "cell_type": "code",
   "execution_count": 8,
   "id": "b3572316-e8c0-423f-83a8-ca8f04febf36",
   "metadata": {
    "scrolled": true
   },
   "outputs": [
    {
     "name": "stdout",
     "output_type": "stream",
     "text": [
      "/workspace/dantaggen-cli\n",
      "YAML Configuration:\n",
      "config:\n",
      "  artist: ''\n",
      "  aspect_ratios:\n",
      "  - 1024 x 1024\n",
      "  - 1152 x 896\n",
      "  - 896 x 1152\n",
      "  - 1216 x 832\n",
      "  - 832 x 1216\n",
      "  - 1344 x 768\n",
      "  - 768 x 1344\n",
      "  - 1536 x 640\n",
      "  - 640 x 1536\n",
      "  blacklist:\n",
      "  - .*background\n",
      "  - .*text.*\n",
      "  - .*blurry.*\n",
      "  - comic\n",
      "  - .*manga.*\n",
      "  - .*magazine.*\n",
      "  - .*username.*\n",
      "  - artist name\n",
      "  characters: arima kana\n",
      "  copyrights: oshi no ko\n",
      "  debug: true\n",
      "  escape_bracket: true\n",
      "  general: solo, waving\n",
      "  model: KBlueLeaf/DanTagGen-gamma\n",
      "  num_prompts: 10\n",
      "  output_file: ./output/example.json\n",
      "  rating: safe\n",
      "  special_tags:\n",
      "  - 1girl\n",
      "  target: short\n",
      "  temperature: 1.35\n",
      "\n",
      "/usr/local/lib/python3.10/dist-packages/huggingface_hub/file_download.py:1132: FutureWarning: `resume_download` is deprecated and will be removed in version 1.0.0. Downloads always resume when possible. If you want to force a new download, use `force_download=True`.\n",
      "  warnings.warn(\n",
      "You are attempting to use Flash Attention 2.0 without specifying a torch dtype. This might lead to unexpected behaviour\n",
      "You are attempting to use Flash Attention 2.0 with a model not initialized on GPU. Make sure to move the model to GPU after initializing it on CPU with `model.to('cuda')`.\n",
      "Flash Attention 2.0 only supports torch.float16 and torch.bfloat16 dtypes, but the current dype in LlamaForCausalLM is torch.float32. You should run training or inference using Automatic Mixed-Precision via the `with torch.autocast(device_type='torch_device'):` decorator, or load the model with the `torch_dtype` argument. Example: `model = AutoModel.from_pretrained(\"openai/whisper-tiny\", attn_implementation=\"flash_attention_2\", torch_dtype=torch.float16)`\n",
      "Flash Attention 2.0 only supports torch.float16 and torch.bfloat16 dtypes, but the current dype in LlamaModel is torch.float32. You should run training or inference using Automatic Mixed-Precision via the `with torch.autocast(device_type='torch_device'):` decorator, or load the model with the `torch_dtype` argument. Example: `model = AutoModel.from_pretrained(\"openai/whisper-tiny\", attn_implementation=\"flash_attention_2\", torch_dtype=torch.float16)`\n",
      "Special tokens have been added in the vocabulary, make sure the associated word embeddings are fine-tuned or trained.\n",
      "Starting batch inference with input data: {'model': 'KBlueLeaf/DanTagGen-gamma', 'rating': 'safe', 'artist': '', 'characters': 'arima kana', 'copyrights': 'oshi no ko', 'target': 'short', 'special_tags': ['1girl'], 'general': 'solo, waving', 'blacklist': '.*background,.*text.*,.*blurry.*,comic,.*manga.*,.*magazine.*,.*username.*,artist name', 'escape_bracket': True, 'temperature': 1.35}\n",
      "Starting batch inference for 10 prompts\n",
      "  0%|                                                    | 0/10 [00:00<?, ?it/s]\n",
      "\tPrompt: 1girl, arima kana, oshi no ko, solo, waving, red eyes, school uniform, hat, city, hat ribbon, ribbon, sky, youtou high school uniform, red sky, safe\n",
      "\tResolution: 1344 x 768\n",
      " 10%|████▍                                       | 1/10 [00:04<00:41,  4.56s/it]\n",
      "\tPrompt: 1girl, arima kana, oshi no ko, solo, waving, pink hat, hat, red hair, short hair, hat ribbon, ribbon, happy, idol, open mouth, closed eyes, safe\n",
      "\tResolution: 1344 x 768\n",
      "\n",
      "\tPrompt: 1girl, arima kana, oshi no ko, solo, waving, no pupils, red eyes, blue shirt, upper body, red hair, short hair, happy, shirt, closed mouth, smile, looking at viewer, safe\n",
      "\tResolution: 1024 x 1024\n",
      " 30%|█████████████▏                              | 3/10 [00:05<00:11,  1.64s/it]\n",
      "\tPrompt: 1girl, arima kana, oshi no ko, solo, waving, sunflower, red eyes, bob cut, hat, blue shawl, red hair, inverted bob, short hair, happy, sky, shawl, smile, open mouth, looking at viewer, safe\n",
      "\tResolution: 1344 x 768\n",
      " 40%|█████████████████▌                          | 4/10 [00:06<00:07,  1.24s/it]\n",
      "\tPrompt: 1girl, arima kana, oshi no ko, solo, waving, hair between eyes, window, building, bob cut, red eyes, blush, black ribbon, dress, upper body, night, red hair, inverted bob, short hair, white dress, ribbon, sky, closed mouth, smile, safe\n",
      "\tResolution: 1536 x 640\n",
      " 50%|██████████████████████                      | 5/10 [00:06<00:05,  1.01s/it]\n",
      "\tPrompt: 1girl, arima kana, oshi no ko, solo, waving, gloves, snowing, white scarf, red eyes, bob cut, standing, white gloves, red hair, winter clothes, short hair, tree, scarf, coat, outdoors, smile, open mouth, earmuffs, safe\n",
      "\tResolution: 1152 x 896\n",
      " 60%|██████████████████████████▍                 | 6/10 [00:06<00:02,  1.37it/s]\n",
      "\tPrompt: 1girl, arima kana, oshi no ko, solo, waving, smile, skirt hold, full body, bob cut, red eyes, red hair, grey footwear, inverted bob, short hair, white dress, happy, sweater vest, dress, open mouth, looking at viewer, standing, safe\n",
      "\tResolution: 832 x 1216\n",
      " 70%|██████████████████████████████▊             | 7/10 [00:07<00:01,  1.73it/s]\n",
      "\tPrompt: 1girl, arima kana, oshi no ko, solo, waving, skirt, red hair, red eyes, jacket, inverted bob, happy, closed mouth, hair between eyes, idol clothes, white jacket, blue skirt, upper body, short hair, white headwear, bob cut, hat, idol, smile, looking at viewer, safe\n",
      "\tResolution: 896 x 1152\n",
      " 80%|███████████████████████████████████▏        | 8/10 [00:07<00:00,  2.02it/s]\n",
      "\tPrompt: 1girl, arima kana, oshi no ko, solo, waving, skirt, full body, red hair, bag, red eyes, socks, inverted bob, yellow footwear, open mouth, white socks, white gloves, short hair, one eye closed, white skirt, yellow bag, bob cut, blush, brown headwear, hat, idol, smile, looking at viewer, safe\n",
      "\tResolution: 768 x 1344\n",
      " 90%|███████████████████████████████████████▌    | 9/10 [00:07<00:00,  2.35it/s]\n",
      "\tPrompt: 1girl, arima kana, oshi no ko, solo, waving, bow, white shirt, bowtie, red hair, collared shirt, floating hair, pink bowtie, beret, youtou high school uniform, red eyes, jacket, inverted bob, blue jacket, hat bow, closed mouth, hair between eyes, no pupils, school uniform, shirt, light particles, medium hair, pink bow, bob cut, blush, light rays, hat, portrait, looking at viewer, blue hat, safe\n",
      "\tResolution: 1216 x 832\n",
      "100%|███████████████████████████████████████████| 10/10 [00:08<00:00,  1.25it/s]\n",
      "Batch inference completed. Prompts saved to: ./output/example.json\n"
     ]
    }
   ],
   "source": [
    "%cd dantaggen-cli\n",
    "!python app.py --config_file ./config/example.yaml"
   ]
  },
  {
   "cell_type": "code",
   "execution_count": null,
   "id": "2023fed3-9bd6-4302-b8fd-4d0fe8f49a43",
   "metadata": {},
   "outputs": [],
   "source": []
  }
 ],
 "metadata": {
  "kernelspec": {
   "display_name": "Python 3 (ipykernel)",
   "language": "python",
   "name": "python3"
  },
  "language_info": {
   "codemirror_mode": {
    "name": "ipython",
    "version": 3
   },
   "file_extension": ".py",
   "mimetype": "text/x-python",
   "name": "python",
   "nbconvert_exporter": "python",
   "pygments_lexer": "ipython3",
   "version": "3.10.12"
  }
 },
 "nbformat": 4,
 "nbformat_minor": 5
}
